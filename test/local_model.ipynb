{
 "cells": [
  {
   "cell_type": "code",
   "execution_count": null,
   "metadata": {},
   "outputs": [
    {
     "data": {
      "text/plain": [
       "<fastembed.text.text_embedding.TextEmbedding at 0x236811fb820>"
      ]
     },
     "execution_count": 4,
     "metadata": {},
     "output_type": "execute_result"
    }
   ],
   "source": [
    "import numpy as np # type: ignore\n",
    "from fastembed import TextEmbedding # type: ignore\n",
    "\n",
    "embedding_model_gpu = TextEmbedding(model_name=\"BAAI/bge-small-en-v1.5\", providers=[\"CUDAExecutionProvider\"])\n",
    "embedding_model_gpu"
   ]
  },
  {
   "cell_type": "code",
   "execution_count": null,
   "metadata": {},
   "outputs": [
    {
     "name": "stdout",
     "output_type": "stream",
     "text": [
      "Saved optimum model to ../app/models/bge-base-en-v1.5_ONNX. Use it with `embed_model = OptimumEmbedding(folder_name='../app/models/bge-base-en-v1.5_ONNX')`.\n"
     ]
    }
   ],
   "source": [
    "from llama_index.embeddings.huggingface_optimum import OptimumEmbedding # type: ignore\n",
    "\n",
    "OptimumEmbedding.create_and_save_optimum_model(\"BAAI/bge-base-en-v1.5\", \"../app/models/bge-base-en-v1.5_ONNX\")"
   ]
  }
 ],
 "metadata": {
  "kernelspec": {
   "display_name": ".venv",
   "language": "python",
   "name": "python3"
  },
  "language_info": {
   "codemirror_mode": {
    "name": "ipython",
    "version": 3
   },
   "file_extension": ".py",
   "mimetype": "text/x-python",
   "name": "python",
   "nbconvert_exporter": "python",
   "pygments_lexer": "ipython3",
   "version": "3.10.1"
  }
 },
 "nbformat": 4,
 "nbformat_minor": 2
}
